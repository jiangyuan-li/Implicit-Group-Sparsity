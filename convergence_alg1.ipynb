{
 "cells": [
  {
   "cell_type": "code",
   "execution_count": null,
   "id": "5e25d66b",
   "metadata": {},
   "outputs": [],
   "source": [
    "import torch\n",
    "import numpy as np\n",
    "import copy\n",
    "import matplotlib.pyplot as plt\n",
    "\n",
    "from src.group_model import Simulation, groupModel, groupTrainer, summary_plot"
   ]
  },
  {
   "cell_type": "code",
   "execution_count": null,
   "id": "6a578e0d",
   "metadata": {},
   "outputs": [],
   "source": [
    "sim = Simulation(150, 300, support = np.array([1,1,1,1,1,1,1,1,1])*10., std = .5, seed=6)"
   ]
  },
  {
   "cell_type": "code",
   "execution_count": null,
   "id": "1c947c05",
   "metadata": {},
   "outputs": [],
   "source": [
    "# sim.lst_est_err"
   ]
  },
  {
   "cell_type": "code",
   "execution_count": null,
   "id": "ba64f6eb",
   "metadata": {},
   "outputs": [],
   "source": [
    "model = groupModel(p=sim.p, group_size=3, depth=2)"
   ]
  },
  {
   "cell_type": "code",
   "execution_count": null,
   "id": "2ce9e669",
   "metadata": {},
   "outputs": [],
   "source": [
    "init = 1e-6\n",
    "for param in model.parameters():\n",
    "    torch.nn.init.ones_(param)\n",
    "model.u.weight.data *= init\n",
    "for i in range(model.num_groups):\n",
    "    model.vs[i].weight.data *= 1/np.sqrt(model.group_size)"
   ]
  },
  {
   "cell_type": "code",
   "execution_count": null,
   "id": "94861dbb",
   "metadata": {},
   "outputs": [],
   "source": [
    "trainer = groupTrainer(model, sim, lr=0.001, is_two_lr=False, is_small_train=False)"
   ]
  },
  {
   "cell_type": "code",
   "execution_count": null,
   "id": "bcee8506",
   "metadata": {},
   "outputs": [],
   "source": [
    "trainer.train(2000)"
   ]
  },
  {
   "cell_type": "code",
   "execution_count": null,
   "id": "f81ad330",
   "metadata": {},
   "outputs": [],
   "source": [
    "log_err = [np.log(x) for x in trainer.params_est_err]"
   ]
  },
  {
   "cell_type": "code",
   "execution_count": null,
   "id": "b5792606",
   "metadata": {},
   "outputs": [],
   "source": [
    "# summary_plot(trainer, n_groups=3, group_size=model.group_size)"
   ]
  },
  {
   "cell_type": "code",
   "execution_count": null,
   "id": "63dc8bf7",
   "metadata": {},
   "outputs": [],
   "source": [
    "plt.rcParams.update({'text.usetex': True})\n",
    "plt.rcParams.update({'text.latex.preamble': r'\\usepackage{amsmath}'})\n",
    "plt.rcParams.update({'lines.linewidth': 3})\n",
    "plt.rcParams.update({'font.size': 15})\n",
    "plt.rcParams.update({'legend.frameon': False})"
   ]
  },
  {
   "cell_type": "code",
   "execution_count": null,
   "id": "95728ca9",
   "metadata": {},
   "outputs": [],
   "source": [
    "fig, axes = plt.subplots(1,2)\n",
    "fig.set_size_inches(12,4)\n",
    "axes[0].plot([np.exp(x) for x in log_err])# [:500]])\n",
    "axes[0].set_xlabel('epochs')\n",
    "axes[0].set_ylabel(r'$||\\mathrm{w}(t) - \\mathrm{w}^\\star||^2$')\n",
    "axes[0].set_title(r'Recovery error')\n",
    "\n",
    "n_groups = 3\n",
    "group_size = 3\n",
    "colors = ['C0' for i in range(n_groups)] + [f'C{n_groups}']\n",
    "# axes[1].plot(trainer.monitor['u'], label = ['group '+str(i+1) for i in range(n_groups)] + ['non support'])\n",
    "axes[1].plot(trainer.monitor['u'], label = [r'$u_l(t), l\\in S$' for i in range(n_groups)] + [r'$\\max\\limits_{l\\notin S} u_l(t)$'])\n",
    "for i, j in enumerate(axes[1].lines):\n",
    "    j.set_color(colors[i])\n",
    "axes[1].set_title('Recovered group magnitudes')\n",
    "# axes[1].legend()\n",
    "axes[1].set_xlabel('epochs')\n",
    "axes[1].set_ylabel(r'$u_l(t)$')\n",
    "handles, labels = axes[1].get_legend_handles_labels()\n",
    "display = [0,3]\n",
    "axes[1].legend([handle for i,handle in enumerate(handles) if i in display],\n",
    "      [label for i,label in enumerate(labels) if i in display])\n",
    "fig.tight_layout()\n",
    "# fig.savefig('outputs/convergence_alg1.pdf')"
   ]
  },
  {
   "cell_type": "code",
   "execution_count": null,
   "id": "d5e23ee6",
   "metadata": {},
   "outputs": [],
   "source": []
  },
  {
   "cell_type": "code",
   "execution_count": null,
   "id": "a7cd7bb1",
   "metadata": {},
   "outputs": [],
   "source": [
    "fig, axes = plt.subplots(1,2)\n",
    "fig.set_size_inches(12,4)\n",
    "axes[0].plot([np.exp(x) for x in log_err[:500]])\n",
    "axes[0].set_xlabel('epochs')\n",
    "axes[0].set_ylabel(r'$||\\mathrm{w}(t) - \\mathrm{w}^\\star||^2$')\n",
    "axes[0].set_title('Recovery error')\n",
    "\n",
    "n_groups = 3\n",
    "group_size = 3\n",
    "colors = ['C0' for i in range(n_groups)] + [f'C{n_groups}']\n",
    "# axes[1].plot(trainer.monitor['u'], label = ['group '+str(i+1) for i in range(n_groups)] + ['non support'])\n",
    "axes[1].plot(trainer.monitor['u'][:500], label = [r'$u_l(t), l\\in S$' for i in range(n_groups)] + [r'$\\max\\limits_{l\\notin S} u_l(t)$'])\n",
    "for i, j in enumerate(axes[1].lines):\n",
    "    j.set_color(colors[i])\n",
    "axes[1].set_title('Recovered group magnitudes')\n",
    "# axes[1].legend()\n",
    "axes[1].set_xlabel('epochs')\n",
    "axes[1].set_ylabel(r'$u_l(t)$')\n",
    "handles, labels = axes[1].get_legend_handles_labels()\n",
    "display = [0,3]\n",
    "axes[1].legend([handle for i,handle in enumerate(handles) if i in display],\n",
    "      [label for i,label in enumerate(labels) if i in display])\n",
    "fig.tight_layout()\n",
    "fig.savefig('outputs/stability_alg1.pdf')"
   ]
  },
  {
   "cell_type": "code",
   "execution_count": null,
   "id": "3309719e",
   "metadata": {},
   "outputs": [],
   "source": [
    "fig, axes = plt.subplots(1,2)\n",
    "fig.set_size_inches(12,4)\n",
    "ax = axes[0]\n",
    "\n",
    "colors = ['C'+str(i) for i in range(n_groups) for j in range(group_size)] + [f'C{n_groups}']\n",
    "ax.plot(trainer.monitor['w'][:500], label = ['group'+str(i+1) for i in range(n_groups) for j in range(group_size)] + ['non support'])\n",
    "for i, j in enumerate(ax.lines):\n",
    "    j.set_color(colors[i])\n",
    "handles, labels = ax.get_legend_handles_labels()\n",
    "ax.set_title('Recovered entries')\n",
    "display = np.arange(0,n_groups*group_size+1,group_size)\n",
    "# ax.axvline(275,ymin=.03,ymax=.97,color='black',linestyle='dashed')\n",
    "ax.legend([handle for i,handle in enumerate(handles) if i in display],\n",
    "      [label for i,label in enumerate(labels) if i in display])\n",
    "    \n",
    "ax = axes[1]\n",
    "n_groups = 3\n",
    "group_size = 3\n",
    "colors = ['C'+str(i) for i in range(n_groups) for j in range(group_size)] + [f'C{n_groups}']\n",
    "ax.plot(trainer.monitor['v'][:500], label = ['group'+str(i+1) for i in range(n_groups) for j in range(group_size)] + ['non support'])\n",
    "for i, j in enumerate(ax.lines):\n",
    "    j.set_color(colors[i])\n",
    "handles, labels = ax.get_legend_handles_labels()\n",
    "display = np.arange(0,n_groups*group_size+1,group_size)\n",
    "ax.legend([handle for i,handle in enumerate(handles) if i in display],\n",
    "      [label for i,label in enumerate(labels) if i in display], loc=(0.05,0))\n",
    "ax.set_title(r'Recovered direction parameters ($\\mathbf{v}$)')\n",
    "# ax.axvline(275,ymin=.03,ymax=.97,color='black',linestyle='dashed')\n",
    "\n",
    "\n",
    "fig.tight_layout()\n",
    "fig.savefig('outputs/instability_alg1.pdf')"
   ]
  },
  {
   "cell_type": "code",
   "execution_count": null,
   "id": "5632d5e8",
   "metadata": {},
   "outputs": [],
   "source": []
  }
 ],
 "metadata": {
  "kernelspec": {
   "display_name": "Python 3.9.7 ('base': conda)",
   "language": "python",
   "name": "python3"
  },
  "language_info": {
   "codemirror_mode": {
    "name": "ipython",
    "version": 3
   },
   "file_extension": ".py",
   "mimetype": "text/x-python",
   "name": "python",
   "nbconvert_exporter": "python",
   "pygments_lexer": "ipython3",
   "version": "3.9.7"
  }
 },
 "nbformat": 4,
 "nbformat_minor": 5
}
