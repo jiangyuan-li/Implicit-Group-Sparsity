{
 "cells": [
  {
   "cell_type": "code",
   "execution_count": null,
   "id": "dda5ce2c",
   "metadata": {},
   "outputs": [],
   "source": [
    "import torch\n",
    "import numpy as np\n",
    "import copy\n",
    "import matplotlib.pyplot as plt\n",
    "\n",
    "from src.group_model import Simulation, groupModel, groupTrainer, summary_plot"
   ]
  },
  {
   "cell_type": "code",
   "execution_count": null,
   "id": "d43fdf4e",
   "metadata": {},
   "outputs": [],
   "source": [
    "sim = Simulation(150, 300, support = np.array([5,6,7,8,9,10,11,12,13]), std = .5, seed=6)"
   ]
  },
  {
   "cell_type": "code",
   "execution_count": null,
   "id": "ec4f62c3",
   "metadata": {},
   "outputs": [],
   "source": [
    "# sim.lst_est_err"
   ]
  },
  {
   "cell_type": "code",
   "execution_count": null,
   "id": "885d681f",
   "metadata": {},
   "outputs": [],
   "source": [
    "model = groupModel(p=sim.p, group_size=3, depth=2)"
   ]
  },
  {
   "cell_type": "code",
   "execution_count": null,
   "id": "c85e2e6c",
   "metadata": {},
   "outputs": [],
   "source": [
    "init = 1e-6\n",
    "for param in model.parameters():\n",
    "    torch.nn.init.ones_(param)\n",
    "model.u.weight.data *= init\n",
    "for i in range(model.num_groups):\n",
    "    model.vs[i].weight.data *= 1/np.sqrt(model.group_size)"
   ]
  },
  {
   "cell_type": "code",
   "execution_count": null,
   "id": "529d7c96",
   "metadata": {},
   "outputs": [],
   "source": [
    "trainer = groupTrainer(model, sim, lr=0.001, tol_on_u=1e-1, is_two_lr=True, is_small_train=False)"
   ]
  },
  {
   "cell_type": "code",
   "execution_count": null,
   "id": "4be108aa",
   "metadata": {},
   "outputs": [],
   "source": [
    "trainer.train(1000)"
   ]
  },
  {
   "cell_type": "code",
   "execution_count": null,
   "id": "79c96e31",
   "metadata": {},
   "outputs": [],
   "source": []
  },
  {
   "cell_type": "code",
   "execution_count": null,
   "id": "974a511c",
   "metadata": {},
   "outputs": [],
   "source": [
    "plt.rcParams.update({'text.usetex': True})\n",
    "plt.rcParams.update({'text.latex.preamble': r'\\usepackage{amsmath}'})\n",
    "plt.rcParams.update({'lines.linewidth': 3})\n",
    "plt.rcParams.update({'font.size': 15})\n",
    "plt.rcParams.update({'legend.frameon': False})"
   ]
  },
  {
   "cell_type": "code",
   "execution_count": null,
   "id": "916e3204",
   "metadata": {},
   "outputs": [],
   "source": [
    "fig, axes = plt.subplots(1,3)\n",
    "fig.set_size_inches(18,5)\n",
    "\n",
    "colors = ['C0']*9 + ['C3']\n",
    "axes[0].plot(trainer.monitor['w'], label=[r'$w_{li}(t), l\\in S$']*9 + [r'$\\max\\limits_{l\\notin S} w_{li}(t)$'])\n",
    "for i, j in enumerate(axes[0].lines):\n",
    "    j.set_color(colors[i])\n",
    "axes[0].set_xlabel('epochs')\n",
    "axes[0].set_ylabel(r'$w_{li}(t)$')\n",
    "axes[0].set_title('Recovered entries')\n",
    "handles, labels = axes[0].get_legend_handles_labels()\n",
    "display = [0,9]\n",
    "axes[0].legend([handle for i,handle in enumerate(handles) if i in display],\n",
    "      [label for i,label in enumerate(labels) if i in display], loc=(.6,.1))\n",
    "\n",
    "n_groups = 3\n",
    "group_size = 3\n",
    "colors = ['C0' for i in range(n_groups)] + [f'C{n_groups}']\n",
    "# axes[1].plot(trainer.monitor['u'], label = ['group '+str(i+1) for i in range(n_groups)] + ['non support'])\n",
    "axes[1].plot(trainer.monitor['u'], label = [r'$u_l(t), l\\in S$' for i in range(n_groups)] + [r'$\\max\\limits_{l\\notin S} u_l(t)$'])\n",
    "for i, j in enumerate(axes[1].lines):\n",
    "    j.set_color(colors[i])\n",
    "axes[1].set_title('Recovered group magnitudes')\n",
    "# axes[1].legend()\n",
    "axes[1].set_xlabel('epochs')\n",
    "axes[1].set_ylabel(r'$u_l(t)$')\n",
    "handles, labels = axes[1].get_legend_handles_labels()\n",
    "display = [0,3]\n",
    "axes[1].legend([handle for i,handle in enumerate(handles) if i in display],\n",
    "      [label for i,label in enumerate(labels) if i in display], loc=(.6,.1))\n",
    "\n",
    "\n",
    "group_labels = ['group'+str(i+1) for i in range(n_groups)]\n",
    "axes[2].plot(trainer.dir, label = group_labels)\n",
    "axes[2].set_title('Recovered group directions')\n",
    "axes[2].set_xlabel('epochs')\n",
    "axes[2].set_ylabel(r'$\\langle \\mathrm{v}_l(t), \\mathrm{v}^\\star\\rangle$')\n",
    "axes[2].legend()\n",
    "\n",
    "fig.tight_layout()\n",
    "fig.savefig('outputs/convergence_alg2.pdf')"
   ]
  },
  {
   "cell_type": "code",
   "execution_count": null,
   "id": "430b87d7",
   "metadata": {},
   "outputs": [],
   "source": []
  }
 ],
 "metadata": {
  "kernelspec": {
   "display_name": "Python 3.9.7 ('base': conda)",
   "language": "python",
   "name": "python3"
  },
  "language_info": {
   "codemirror_mode": {
    "name": "ipython",
    "version": 3
   },
   "file_extension": ".py",
   "mimetype": "text/x-python",
   "name": "python",
   "nbconvert_exporter": "python",
   "pygments_lexer": "ipython3",
   "version": "3.9.7"
  }
 },
 "nbformat": 4,
 "nbformat_minor": 5
}
