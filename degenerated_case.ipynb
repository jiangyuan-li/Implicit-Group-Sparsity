{
 "cells": [
  {
   "cell_type": "code",
   "execution_count": null,
   "id": "786e4467",
   "metadata": {},
   "outputs": [],
   "source": [
    "import numpy as np\n",
    "import torch\n",
    "import matplotlib.pyplot as plt\n",
    "import pickle\n",
    "from src.group_model import Simulation, groupModel, groupTrainer, summary_plot\n",
    "from src.model import sparseModel, sparseTrainer\n",
    "%matplotlib inline"
   ]
  },
  {
   "cell_type": "code",
   "execution_count": null,
   "id": "a8fb3878",
   "metadata": {},
   "outputs": [],
   "source": [
    "import asyncio\n",
    "import pickle"
   ]
  },
  {
   "cell_type": "code",
   "execution_count": null,
   "id": "25af7c02",
   "metadata": {},
   "outputs": [],
   "source": [
    "def background(f):\n",
    "    def wrapped(*args, **kwargs):\n",
    "        return asyncio.get_event_loop().run_in_executor(None, f, *args, **kwargs)\n",
    "\n",
    "    return wrapped\n",
    "\n",
    "@background\n",
    "def one_fit(seed, holder):\n",
    "    sim = Simulation(m=80, p=200, seed=rep*100, support = np.repeat([1,-1,-1,1,1],1), std=.5)\n",
    "\n",
    "    model = groupModel(p=sim.p, group_size=1, depth=2)\n",
    "\n",
    "    init = 1e-6\n",
    "    for param in model.parameters():\n",
    "        torch.nn.init.ones_(param)\n",
    "    model.u.weight.data *= init\n",
    "    for i in range(model.num_groups):\n",
    "        model.vs[i].weight.data *= 1/np.sqrt(model.group_size)\n",
    "\n",
    "    trainer = groupTrainer(model, sim, lr=0.05, tol_on_u=3e-2, is_two_lr=False, is_small_train=False)\n",
    "\n",
    "    trainer.train(1000)\n",
    "    holder.append(trainer)\n",
    "    print(rep)"
   ]
  },
  {
   "cell_type": "code",
   "execution_count": null,
   "id": "a220d14b",
   "metadata": {},
   "outputs": [],
   "source": [
    "holder = []\n",
    "for rep in range(30):\n",
    "    one_fit(rep, holder)"
   ]
  },
  {
   "cell_type": "code",
   "execution_count": null,
   "id": "3f4d371e",
   "metadata": {},
   "outputs": [],
   "source": [
    "sim = Simulation(m=80, p=200, seed=42, support = np.repeat([1,-1,-1,1,1],1), std=.5)"
   ]
  },
  {
   "cell_type": "code",
   "execution_count": null,
   "id": "49ca5456",
   "metadata": {},
   "outputs": [],
   "source": [
    "# sim.lst_est_err"
   ]
  },
  {
   "cell_type": "code",
   "execution_count": null,
   "id": "5047d387",
   "metadata": {},
   "outputs": [],
   "source": [
    "model = groupModel(p=sim.p, group_size=1, depth=2)"
   ]
  },
  {
   "cell_type": "code",
   "execution_count": null,
   "id": "774b526a",
   "metadata": {},
   "outputs": [],
   "source": [
    "init = 1e-6\n",
    "for param in model.parameters():\n",
    "    torch.nn.init.ones_(param)\n",
    "model.u.weight.data *= init\n",
    "for i in range(model.num_groups):\n",
    "    model.vs[i].weight.data *= 1/np.sqrt(model.group_size)"
   ]
  },
  {
   "cell_type": "code",
   "execution_count": null,
   "id": "7f12fac0",
   "metadata": {},
   "outputs": [],
   "source": [
    "trainer = groupTrainer(model, sim, lr=0.05, tol_on_u=3e-2, is_two_lr=False, is_small_train=False)"
   ]
  },
  {
   "cell_type": "code",
   "execution_count": null,
   "id": "a8e63b3b",
   "metadata": {},
   "outputs": [],
   "source": [
    "trainer.train(1000)"
   ]
  },
  {
   "cell_type": "code",
   "execution_count": null,
   "id": "06adb71b",
   "metadata": {},
   "outputs": [],
   "source": [
    "# summary_plot(trainer, n_groups=sim.support.shape[0], group_size=model.group_size)"
   ]
  },
  {
   "cell_type": "code",
   "execution_count": null,
   "id": "3c8539db",
   "metadata": {},
   "outputs": [],
   "source": [
    "plt.rcParams.update({'text.usetex': True})\n",
    "plt.rcParams.update({'text.latex.preamble': r'\\usepackage{amsmath}'})\n",
    "plt.rcParams.update({'lines.linewidth': 3})\n",
    "plt.rcParams.update({'font.size': 15})\n",
    "plt.rcParams.update({'legend.frameon': False})"
   ]
  },
  {
   "cell_type": "code",
   "execution_count": null,
   "id": "d5daa666",
   "metadata": {},
   "outputs": [],
   "source": [
    "fig, axes = plt.subplots(1,2)\n",
    "fig.set_size_inches(12,4)\n",
    "\n",
    "colors = ['C0']*5 + ['C3']\n",
    "axes[0].plot(trainer.monitor['w'], label=[r'$w_{li}(t), l\\in S$']*5 + [r'$\\max\\limits_{l\\notin S} |w_{li}(t)|$'])\n",
    "for i, j in enumerate(axes[0].lines):\n",
    "    j.set_color(colors[i])\n",
    "axes[0].set_xlabel('epochs')\n",
    "axes[0].set_ylabel(r'$w_{li}(t)$')\n",
    "axes[0].set_title('Recovered entries')\n",
    "handles, labels = axes[0].get_legend_handles_labels()\n",
    "display = [0,5]\n",
    "axes[0].legend([handle for i,handle in enumerate(handles) if i in display],\n",
    "      [label for i,label in enumerate(labels) if i in display], loc=(.6,.2))\n",
    "axes[0].hlines(0,1000,0, color='black',linestyle='dashed')\n",
    "\n",
    "\n",
    "ax = axes[1]\n",
    "\n",
    "errs = [np.log(x.params_est_err) for x in holder]\n",
    "errs = np.vstack(errs)\n",
    "\n",
    "epochs = errs.shape[1]\n",
    "\n",
    "means = np.mean(errs, axis=0)\n",
    "# sd = np.std(errs, axis=0)\n",
    "lower_percentile = np.percentile(errs, 5, axis=0)\n",
    "upper_percentile = np.percentile(errs, 95, axis=0)\n",
    "\n",
    "bars = np.stack((means - lower_percentile, upper_percentile - means))\n",
    "\n",
    "\n",
    "epochs_vec = [*range(epochs)]\n",
    "line_width = 2\n",
    "\n",
    "ax.plot(epochs_vec, means)\n",
    "ax.fill_between(epochs_vec, lower_percentile, upper_percentile, alpha=.15)\n",
    "\n",
    "ax.set_ylabel(r'$\\log_{2} ||\\mathbf{w}_{t} - \\mathbf{w}^{\\star}||_{2}^{2}$')\n",
    "ax.set_xlabel('epochs')\n",
    "ax.set_title('Recovery error')\n",
    "\n",
    "fig.tight_layout()\n",
    "fig.savefig('outputs/degenerated_case.pdf')"
   ]
  },
  {
   "cell_type": "code",
   "execution_count": null,
   "id": "953b5f77",
   "metadata": {},
   "outputs": [],
   "source": []
  }
 ],
 "metadata": {
  "kernelspec": {
   "display_name": "Python 3.9.7 ('base': conda)",
   "language": "python",
   "name": "python3"
  },
  "language_info": {
   "codemirror_mode": {
    "name": "ipython",
    "version": 3
   },
   "file_extension": ".py",
   "mimetype": "text/x-python",
   "name": "python",
   "nbconvert_exporter": "python",
   "pygments_lexer": "ipython3",
   "version": "3.9.7"
  }
 },
 "nbformat": 4,
 "nbformat_minor": 5
}
