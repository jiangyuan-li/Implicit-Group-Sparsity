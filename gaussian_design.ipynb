{
 "cells": [
  {
   "cell_type": "code",
   "execution_count": null,
   "id": "1e9e635a",
   "metadata": {},
   "outputs": [],
   "source": [
    "import torch\n",
    "import numpy as np\n",
    "import copy\n",
    "import matplotlib.pyplot as plt\n",
    "from src.group_model import Simulation, groupModel, groupTrainer, summary_plot"
   ]
  },
  {
   "cell_type": "code",
   "execution_count": null,
   "id": "cb10fafa",
   "metadata": {},
   "outputs": [],
   "source": [
    "class GaussianSimulation:\n",
    "    def __init__(self, m=200, p=500, seed=42, support = np.repeat([1,2,3,4],4), # np.tile\n",
    "                 std = 0.5):\n",
    "        self.m = m\n",
    "        self.p = p\n",
    "        self.k = support.shape[0]\n",
    "        self.support = support\n",
    "        self.seed = seed\n",
    "        self.std = std\n",
    "        \n",
    "        np.random.seed(seed)\n",
    "        X = np.random.normal(size=(m,p))# np.random.binomial(1, 0.5, (m, p))*2 - 1\n",
    "        w_star = np.hstack((support, np.zeros(self.p-self.k)))\n",
    "\n",
    "        signal = np.matmul(X, w_star)\n",
    "        noise = np.random.normal(scale=std, size=m)\n",
    "        y = signal + noise\n",
    "        \n",
    "        self.signal, self.noise = signal, noise\n",
    "        self.X = torch.tensor(X, dtype=torch.float32)\n",
    "        self.w_star = torch.tensor(w_star, dtype=torch.float32)\n",
    "        self.y = torch.tensor(y, dtype=torch.float32)\n",
    "        \n",
    "        self._least_square()\n",
    "        self._snr()\n",
    "        \n",
    "    def _least_square(self):\n",
    "        self.w_lst = torch.linalg.lstsq(self.X, self.y).solution\n",
    "        self.lst_est_err = ((self.w_lst-self.w_star)**2).mean().item()\n",
    "        \n",
    "    def _snr(self):\n",
    "        self.snr = np.sqrt((self.signal ** 2).sum()) / np.sqrt((self.noise**2).sum())\n",
    "        print(f'SNR: {self.snr:.4f}')\n",
    "        "
   ]
  },
  {
   "cell_type": "markdown",
   "id": "5d8b8946",
   "metadata": {},
   "source": [
    "# convergence of alg1"
   ]
  },
  {
   "cell_type": "code",
   "execution_count": null,
   "id": "0d527e90",
   "metadata": {},
   "outputs": [],
   "source": [
    "sim = GaussianSimulation(150, 300, support = np.array([1,1,1,1,1,1,1,1,1])*10., std = .1, seed=6)"
   ]
  },
  {
   "cell_type": "code",
   "execution_count": null,
   "id": "24b22587",
   "metadata": {},
   "outputs": [],
   "source": [
    "model = groupModel(p=sim.p, group_size=3, depth=2)"
   ]
  },
  {
   "cell_type": "code",
   "execution_count": null,
   "id": "fa49f51a",
   "metadata": {},
   "outputs": [],
   "source": [
    "init = 1e-6\n",
    "for param in model.parameters():\n",
    "    torch.nn.init.ones_(param)\n",
    "model.u.weight.data *= init\n",
    "for i in range(model.num_groups):\n",
    "    model.vs[i].weight.data *= 1/np.sqrt(model.group_size)"
   ]
  },
  {
   "cell_type": "code",
   "execution_count": null,
   "id": "f5e376e1",
   "metadata": {},
   "outputs": [],
   "source": [
    "trainer = groupTrainer(model, sim, lr=0.001, is_two_lr=False, is_small_train=False)"
   ]
  },
  {
   "cell_type": "code",
   "execution_count": null,
   "id": "78693192",
   "metadata": {},
   "outputs": [],
   "source": [
    "trainer.train(2000)"
   ]
  },
  {
   "cell_type": "code",
   "execution_count": null,
   "id": "6be6aa9b",
   "metadata": {},
   "outputs": [],
   "source": [
    "log_err = [np.log(x) for x in trainer.params_est_err]"
   ]
  },
  {
   "cell_type": "markdown",
   "id": "32d0c782",
   "metadata": {},
   "source": []
  },
  {
   "cell_type": "code",
   "execution_count": null,
   "id": "e4359d51",
   "metadata": {},
   "outputs": [],
   "source": [
    "plt.rcParams.update({'text.usetex': True})\n",
    "plt.rcParams.update({'text.latex.preamble': r'\\usepackage{amsmath}'})\n",
    "plt.rcParams.update({'lines.linewidth': 3})\n",
    "plt.rcParams.update({'font.size': 15})\n",
    "plt.rcParams.update({'legend.frameon': False})"
   ]
  },
  {
   "cell_type": "code",
   "execution_count": null,
   "id": "6c6aaadd",
   "metadata": {},
   "outputs": [],
   "source": [
    "fig, axes = plt.subplots(1,2)\n",
    "fig.set_size_inches(12,4)\n",
    "axes[0].plot([np.exp(x) for x in log_err])# [:500]])\n",
    "axes[0].set_xlabel('epochs')\n",
    "axes[0].set_ylabel(r'$||\\mathrm{w}(t) - \\mathrm{w}^\\star||^2$')\n",
    "axes[0].set_title(r'Recovery error')\n",
    "\n",
    "n_groups = 3\n",
    "group_size = 3\n",
    "colors = ['C0' for i in range(n_groups)] + [f'C{n_groups}']\n",
    "# axes[1].plot(trainer.monitor['u'], label = ['group '+str(i+1) for i in range(n_groups)] + ['non support'])\n",
    "axes[1].plot(trainer.monitor['u'], label = [r'$u_l(t), l\\in S$' for i in range(n_groups)] + [r'$\\max\\limits_{l\\notin S} u_l(t)$'])\n",
    "for i, j in enumerate(axes[1].lines):\n",
    "    j.set_color(colors[i])\n",
    "axes[1].set_title('Recovered group magnitudes')\n",
    "# axes[1].legend()\n",
    "axes[1].set_xlabel('epochs')\n",
    "axes[1].set_ylabel(r'$u_l(t)$')\n",
    "handles, labels = axes[1].get_legend_handles_labels()\n",
    "display = [0,3]\n",
    "axes[1].legend([handle for i,handle in enumerate(handles) if i in display],\n",
    "      [label for i,label in enumerate(labels) if i in display])\n",
    "fig.tight_layout()\n",
    "fig.savefig('outputs/gaussian_convergence_alg1.pdf')"
   ]
  },
  {
   "cell_type": "code",
   "execution_count": null,
   "id": "9a1164ed",
   "metadata": {},
   "outputs": [],
   "source": [
    "fig, axes = plt.subplots(1,2)\n",
    "fig.set_size_inches(12,4)\n",
    "axes[0].plot([np.exp(x) for x in log_err[:500]])\n",
    "axes[0].set_xlabel('epochs')\n",
    "axes[0].set_ylabel(r'$||\\mathrm{w}(t) - \\mathrm{w}^\\star||^2$')\n",
    "axes[0].set_title('Recovery error')\n",
    "\n",
    "n_groups = 3\n",
    "group_size = 3\n",
    "colors = ['C0' for i in range(n_groups)] + [f'C{n_groups}']\n",
    "# axes[1].plot(trainer.monitor['u'], label = ['group '+str(i+1) for i in range(n_groups)] + ['non support'])\n",
    "axes[1].plot(trainer.monitor['u'][:500], label = [r'$u_l(t), l\\in S$' for i in range(n_groups)] + [r'$\\max\\limits_{l\\notin S} u_l(t)$'])\n",
    "for i, j in enumerate(axes[1].lines):\n",
    "    j.set_color(colors[i])\n",
    "axes[1].set_title('Recovered group magnitudes')\n",
    "# axes[1].legend()\n",
    "axes[1].set_xlabel('epochs')\n",
    "axes[1].set_ylabel(r'$u_l(t)$')\n",
    "handles, labels = axes[1].get_legend_handles_labels()\n",
    "display = [0,3]\n",
    "axes[1].legend([handle for i,handle in enumerate(handles) if i in display],\n",
    "      [label for i,label in enumerate(labels) if i in display])\n",
    "fig.tight_layout()\n",
    "fig.savefig('outputs/gaussian_stability_alg1.pdf')"
   ]
  },
  {
   "cell_type": "code",
   "execution_count": null,
   "id": "3bcd2e90",
   "metadata": {},
   "outputs": [],
   "source": [
    "fig, axes = plt.subplots(1,2)\n",
    "fig.set_size_inches(12,4)\n",
    "ax = axes[0]\n",
    "\n",
    "colors = ['C'+str(i) for i in range(n_groups) for j in range(group_size)] + [f'C{n_groups}']\n",
    "ax.plot(trainer.monitor['w'][:500], label = ['group'+str(i+1) for i in range(n_groups) for j in range(group_size)] + ['non support'])\n",
    "for i, j in enumerate(ax.lines):\n",
    "    j.set_color(colors[i])\n",
    "handles, labels = ax.get_legend_handles_labels()\n",
    "ax.set_title('Recovered entries')\n",
    "display = np.arange(0,n_groups*group_size+1,group_size)\n",
    "# ax.axvline(275,ymin=.03,ymax=.97,color='black',linestyle='dashed')\n",
    "ax.legend([handle for i,handle in enumerate(handles) if i in display],\n",
    "      [label for i,label in enumerate(labels) if i in display])\n",
    "    \n",
    "ax = axes[1]\n",
    "n_groups = 3\n",
    "group_size = 3\n",
    "colors = ['C'+str(i) for i in range(n_groups) for j in range(group_size)] + [f'C{n_groups}']\n",
    "ax.plot(trainer.monitor['v'][:500], label = ['group'+str(i+1) for i in range(n_groups) for j in range(group_size)] + ['non support'])\n",
    "for i, j in enumerate(ax.lines):\n",
    "    j.set_color(colors[i])\n",
    "handles, labels = ax.get_legend_handles_labels()\n",
    "display = np.arange(0,n_groups*group_size+1,group_size)\n",
    "ax.legend([handle for i,handle in enumerate(handles) if i in display],\n",
    "      [label for i,label in enumerate(labels) if i in display], loc=(0.05,0))\n",
    "ax.set_title(r'Recovered direction parameters ($\\mathbf{v}$)')\n",
    "# ax.axvline(275,ymin=.03,ymax=.97,color='black',linestyle='dashed')\n",
    "\n",
    "\n",
    "fig.tight_layout()\n",
    "fig.savefig('outputs/gaussian_instability_alg1.pdf')"
   ]
  },
  {
   "cell_type": "markdown",
   "id": "f7e5c89e",
   "metadata": {},
   "source": [
    "# convergence of alg2"
   ]
  },
  {
   "cell_type": "code",
   "execution_count": null,
   "id": "e346a7e0",
   "metadata": {},
   "outputs": [],
   "source": [
    "sim = GaussianSimulation(150, 300, support = np.array([5,6,7,8,9,10,11,12,13]), std = .5, seed=42)"
   ]
  },
  {
   "cell_type": "code",
   "execution_count": null,
   "id": "991dae63",
   "metadata": {},
   "outputs": [],
   "source": [
    "model = groupModel(p=sim.p, group_size=3, depth=2)"
   ]
  },
  {
   "cell_type": "code",
   "execution_count": null,
   "id": "0692d015",
   "metadata": {},
   "outputs": [],
   "source": [
    "init = 1e-6\n",
    "for param in model.parameters():\n",
    "    torch.nn.init.ones_(param)\n",
    "model.u.weight.data *= init\n",
    "for i in range(model.num_groups):\n",
    "    model.vs[i].weight.data *= 1/np.sqrt(model.group_size)"
   ]
  },
  {
   "cell_type": "code",
   "execution_count": null,
   "id": "eb012919",
   "metadata": {},
   "outputs": [],
   "source": [
    "trainer = groupTrainer(model, sim, lr=0.001, tol_on_u=1e-1, is_two_lr=True, is_small_train=False)"
   ]
  },
  {
   "cell_type": "code",
   "execution_count": null,
   "id": "327ecb9d",
   "metadata": {},
   "outputs": [],
   "source": [
    "trainer.train(1000)"
   ]
  },
  {
   "cell_type": "code",
   "execution_count": null,
   "id": "5f8bd01c",
   "metadata": {},
   "outputs": [],
   "source": [
    "fig, axes = plt.subplots(1,3)\n",
    "fig.set_size_inches(18,5)\n",
    "\n",
    "colors = ['C0']*9 + ['C3']\n",
    "axes[0].plot(trainer.monitor['w'], label=[r'$w_{li}(t), l\\in S$']*9 + [r'$\\max\\limits_{l\\notin S} w_{li}(t)$'])\n",
    "for i, j in enumerate(axes[0].lines):\n",
    "    j.set_color(colors[i])\n",
    "axes[0].set_xlabel('epochs')\n",
    "axes[0].set_ylabel(r'$w_{li}(t)$')\n",
    "axes[0].set_title('Recovered entries')\n",
    "handles, labels = axes[0].get_legend_handles_labels()\n",
    "display = [0,9]\n",
    "axes[0].legend([handle for i,handle in enumerate(handles) if i in display],\n",
    "      [label for i,label in enumerate(labels) if i in display], loc=(.6,.1))\n",
    "\n",
    "n_groups = 3\n",
    "group_size = 3\n",
    "colors = ['C0' for i in range(n_groups)] + [f'C{n_groups}']\n",
    "# axes[1].plot(trainer.monitor['u'], label = ['group '+str(i+1) for i in range(n_groups)] + ['non support'])\n",
    "axes[1].plot(trainer.monitor['u'], label = [r'$u_l(t), l\\in S$' for i in range(n_groups)] + [r'$\\max\\limits_{l\\notin S} u_l(t)$'])\n",
    "for i, j in enumerate(axes[1].lines):\n",
    "    j.set_color(colors[i])\n",
    "axes[1].set_title('Recovered group magnitudes')\n",
    "# axes[1].legend()\n",
    "axes[1].set_xlabel('epochs')\n",
    "axes[1].set_ylabel(r'$u_l(t)$')\n",
    "handles, labels = axes[1].get_legend_handles_labels()\n",
    "display = [0,3]\n",
    "axes[1].legend([handle for i,handle in enumerate(handles) if i in display],\n",
    "      [label for i,label in enumerate(labels) if i in display], loc=(.6,.1))\n",
    "\n",
    "\n",
    "group_labels = ['group'+str(i+1) for i in range(n_groups)]\n",
    "axes[2].plot(trainer.dir, label = group_labels)\n",
    "axes[2].set_title('Recovered group directions')\n",
    "axes[2].set_xlabel('epochs')\n",
    "axes[2].set_ylabel(r'$\\langle \\mathrm{v}_l(t), \\mathrm{v}^\\star\\rangle$')\n",
    "axes[2].legend()\n",
    "\n",
    "fig.tight_layout()\n",
    "fig.savefig('outputs/gaussian_convergence_alg2.pdf')"
   ]
  },
  {
   "cell_type": "code",
   "execution_count": null,
   "id": "cc5cc4dc",
   "metadata": {},
   "outputs": [],
   "source": []
  }
 ],
 "metadata": {
  "kernelspec": {
   "display_name": "im",
   "language": "python",
   "name": "im"
  },
  "language_info": {
   "codemirror_mode": {
    "name": "ipython",
    "version": 3
   },
   "file_extension": ".py",
   "mimetype": "text/x-python",
   "name": "python",
   "nbconvert_exporter": "python",
   "pygments_lexer": "ipython3",
   "version": "3.9.7"
  }
 },
 "nbformat": 4,
 "nbformat_minor": 5
}
