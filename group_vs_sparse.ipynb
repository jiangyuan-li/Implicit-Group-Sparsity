{
 "cells": [
  {
   "cell_type": "code",
   "execution_count": null,
   "id": "786e4467",
   "metadata": {},
   "outputs": [],
   "source": [
    "import numpy as np\n",
    "import torch\n",
    "import matplotlib.pyplot as plt\n",
    "import pickle\n",
    "from src.group_model import Simulation, groupModel, groupTrainer, summary_plot\n",
    "from src.model import sparseModel, sparseTrainer\n",
    "%matplotlib inline"
   ]
  },
  {
   "cell_type": "code",
   "execution_count": null,
   "id": "d6fd7674",
   "metadata": {},
   "outputs": [],
   "source": [
    "sim = Simulation(m=100, p=500, seed=42, support = np.repeat([1,1,1,1],4), std=.5)"
   ]
  },
  {
   "cell_type": "code",
   "execution_count": null,
   "id": "c0393105",
   "metadata": {},
   "outputs": [],
   "source": [
    "# sim.lst_est_err"
   ]
  },
  {
   "cell_type": "code",
   "execution_count": null,
   "id": "6b630821",
   "metadata": {},
   "outputs": [],
   "source": [
    "model = groupModel(p=sim.p, group_size=4, depth=2)"
   ]
  },
  {
   "cell_type": "code",
   "execution_count": null,
   "id": "f9fd3f64",
   "metadata": {},
   "outputs": [],
   "source": [
    "init = 1e-6\n",
    "for param in model.parameters():\n",
    "    torch.nn.init.ones_(param)\n",
    "model.u.weight.data *= init\n",
    "for i in range(model.num_groups):\n",
    "    model.vs[i].weight.data *= 1/np.sqrt(model.group_size)"
   ]
  },
  {
   "cell_type": "code",
   "execution_count": null,
   "id": "a3eb5838",
   "metadata": {},
   "outputs": [],
   "source": [
    "trainer = groupTrainer(model, sim, lr=0.01, tol_on_u=3e-2, is_two_lr=True, is_small_train=False)"
   ]
  },
  {
   "cell_type": "code",
   "execution_count": null,
   "id": "6f822c43",
   "metadata": {},
   "outputs": [],
   "source": [
    "trainer.train(500)"
   ]
  },
  {
   "cell_type": "code",
   "execution_count": null,
   "id": "06adb71b",
   "metadata": {},
   "outputs": [],
   "source": [
    "# summary_plot(trainer, n_groups=4, group_size=model.group_size)"
   ]
  },
  {
   "cell_type": "code",
   "execution_count": null,
   "id": "c6b7f685",
   "metadata": {},
   "outputs": [],
   "source": [
    "sparse_model = sparseModel(only_pos=True)"
   ]
  },
  {
   "cell_type": "code",
   "execution_count": null,
   "id": "5582eea5",
   "metadata": {},
   "outputs": [],
   "source": [
    "init = 1e-6\n",
    "for param in sparse_model.parameters():\n",
    "    torch.nn.init.ones_(param)\n",
    "    param.data *= init"
   ]
  },
  {
   "cell_type": "code",
   "execution_count": null,
   "id": "30b2b10a",
   "metadata": {},
   "outputs": [],
   "source": [
    "sparse_trainer = sparseTrainer(sparse_model, sim, lr=0.01)"
   ]
  },
  {
   "cell_type": "code",
   "execution_count": null,
   "id": "18d637c3",
   "metadata": {},
   "outputs": [],
   "source": [
    "sparse_trainer.train(epochs=500)"
   ]
  },
  {
   "cell_type": "code",
   "execution_count": null,
   "id": "5dc511b8",
   "metadata": {},
   "outputs": [],
   "source": [
    "# fig, axes = plt.subplots(2,2)\n",
    "# fig.set_size_inches(16, 10)\n",
    "# axes[0,0].plot(sparse_trainer.loss)\n",
    "# axes[0,0].set_title('loss')\n",
    "\n",
    "# axes[0,1].plot(sparse_trainer.params_est_err)\n",
    "# axes[0,1].set_title('estimation error')\n",
    "\n",
    "# axes[1,0].plot(sparse_trainer.params_est_err[200:])\n",
    "# axes[1,0].set_title('estimation error (zoom in)')\n",
    "\n",
    "# colors = ['C0']*16+['C1']\n",
    "# axes[1,1].plot(sparse_trainer.monitor, label = ['support']*16 + ['non support'])\n",
    "# for i, j in enumerate(axes[1,1].lines):\n",
    "#     j.set_color(colors[i])\n",
    "# handles, labels = axes[1,1].get_legend_handles_labels()\n",
    "# axes[1,1].set_title('recovered params')\n",
    "# display = (0,16)\n",
    "# _=axes[1,1].legend([handle for i,handle in enumerate(handles) if i in display],\n",
    "#       [label for i,label in enumerate(labels) if i in display], loc=(1.04,0))"
   ]
  },
  {
   "cell_type": "code",
   "execution_count": null,
   "id": "cbf3fa79",
   "metadata": {},
   "outputs": [],
   "source": [
    "plt.rcParams.update({'text.usetex': True})\n",
    "plt.rcParams.update({'text.latex.preamble': r'\\usepackage{amsmath}'})\n",
    "plt.rcParams.update({'lines.linewidth': 3})\n",
    "plt.rcParams.update({'font.size': 15})\n",
    "plt.rcParams.update({'legend.frameon': False})"
   ]
  },
  {
   "cell_type": "code",
   "execution_count": null,
   "id": "d5daa666",
   "metadata": {},
   "outputs": [],
   "source": [
    "fig, axes = plt.subplots(1,2)\n",
    "fig.set_size_inches(12,4)\n",
    "\n",
    "colors = ['C0']*16 + ['C3']\n",
    "axes[0].plot(trainer.monitor['w'], label=[r'$w_{li}(t), l\\in S$']*16 + [r'$\\max\\limits_{l\\notin S} w_{li}(t)$'])\n",
    "for i, j in enumerate(axes[0].lines):\n",
    "    j.set_color(colors[i])\n",
    "axes[0].set_xlabel('epochs')\n",
    "axes[0].set_ylabel(r'$w_{li}(t)$')\n",
    "axes[0].set_title('Recovered entries using group sparsity')\n",
    "handles, labels = axes[0].get_legend_handles_labels()\n",
    "display = [0,16]\n",
    "axes[0].legend([handle for i,handle in enumerate(handles) if i in display],\n",
    "      [label for i,label in enumerate(labels) if i in display], loc=(.5,.1))\n",
    "\n",
    "colors = ['C0']*16+['C3']\n",
    "axes[1].plot(sparse_trainer.monitor, label = [r'$w_{li}(t), l\\in S$']*16 + [r'$\\max\\limits_{l\\notin S} w_{li}(t)$'])\n",
    "for i, j in enumerate(axes[1].lines):\n",
    "    j.set_color(colors[i])\n",
    "handles, labels = axes[1].get_legend_handles_labels()\n",
    "axes[1].set_title('Recovered entries using sparsity')\n",
    "display = (0,16)\n",
    "_=axes[1].legend([handle for i,handle in enumerate(handles) if i in display],\n",
    "      [label for i,label in enumerate(labels) if i in display], loc=(.05,.6))\n",
    "axes[1].set_xlabel('epochs')\n",
    "axes[1].set_ylabel(r'$w_{li}(t)$')\n",
    "fig.tight_layout()\n",
    "fig.savefig('outputs/group_vs_sparse.pdf')"
   ]
  },
  {
   "cell_type": "code",
   "execution_count": null,
   "id": "a3a31ddf",
   "metadata": {},
   "outputs": [],
   "source": []
  }
 ],
 "metadata": {
  "kernelspec": {
   "display_name": "Python 3.9.7 ('base': conda)",
   "language": "python",
   "name": "python3"
  },
  "language_info": {
   "codemirror_mode": {
    "name": "ipython",
    "version": 3
   },
   "file_extension": ".py",
   "mimetype": "text/x-python",
   "name": "python",
   "nbconvert_exporter": "python",
   "pygments_lexer": "ipython3",
   "version": "3.9.7"
  }
 },
 "nbformat": 4,
 "nbformat_minor": 5
}
