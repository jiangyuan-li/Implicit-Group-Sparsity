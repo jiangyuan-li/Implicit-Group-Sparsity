{
 "cells": [
  {
   "cell_type": "code",
   "execution_count": null,
   "id": "786e4467",
   "metadata": {},
   "outputs": [],
   "source": [
    "import numpy as np\n",
    "import torch\n",
    "import matplotlib.pyplot as plt\n",
    "import pickle\n",
    "import copy\n",
    "from src.group_model import Simulation, groupModel, groupTrainer, groupTrainerWithoutWN, summary_plot\n",
    "from src.model import sparseModel, sparseTrainer\n",
    "%matplotlib inline"
   ]
  },
  {
   "cell_type": "code",
   "execution_count": null,
   "id": "d6fd7674",
   "metadata": {},
   "outputs": [],
   "source": [
    "sim = Simulation(m=100, p=500, seed=42, support = np.repeat([1,1,1,1],4), std=.5)"
   ]
  },
  {
   "cell_type": "code",
   "execution_count": null,
   "id": "c0393105",
   "metadata": {},
   "outputs": [],
   "source": [
    "# sim.lst_est_err"
   ]
  },
  {
   "cell_type": "code",
   "execution_count": null,
   "id": "6b630821",
   "metadata": {},
   "outputs": [],
   "source": [
    "model = groupModel(p=sim.p, group_size=4, depth=2)"
   ]
  },
  {
   "cell_type": "code",
   "execution_count": null,
   "id": "f9fd3f64",
   "metadata": {},
   "outputs": [],
   "source": [
    "init = 1e-3\n",
    "for param in model.parameters():\n",
    "    torch.nn.init.ones_(param)\n",
    "model.u.weight.data *= init\n",
    "for i in range(model.num_groups):\n",
    "    model.vs[i].weight.data *= 0 # 1/np.sqrt(model.group_size)"
   ]
  },
  {
   "cell_type": "code",
   "execution_count": null,
   "id": "a3eb5838",
   "metadata": {},
   "outputs": [],
   "source": [
    "trainer = groupTrainerWithoutWN(model, sim, lr=0.05)#, tol_on_u=3e-2, is_two_lr=True, is_small_train=False)"
   ]
  },
  {
   "cell_type": "code",
   "execution_count": null,
   "id": "6f822c43",
   "metadata": {},
   "outputs": [],
   "source": [
    "trainer.train(8000)"
   ]
  },
  {
   "cell_type": "code",
   "execution_count": null,
   "id": "06adb71b",
   "metadata": {},
   "outputs": [],
   "source": [
    "# summary_plot(trainer, n_groups=4, group_size=model.group_size)"
   ]
  },
  {
   "cell_type": "code",
   "execution_count": null,
   "id": "469b9eca",
   "metadata": {},
   "outputs": [],
   "source": []
  },
  {
   "cell_type": "code",
   "execution_count": null,
   "id": "4e12f132",
   "metadata": {},
   "outputs": [],
   "source": [
    "model = groupModel(p=sim.p, group_size=4, depth=2)"
   ]
  },
  {
   "cell_type": "code",
   "execution_count": null,
   "id": "93baf77c",
   "metadata": {},
   "outputs": [],
   "source": [
    "init = 1e-3\n",
    "for param in model.parameters():\n",
    "    torch.nn.init.ones_(param)\n",
    "model.u.weight.data *= init\n",
    "for i in range(model.num_groups):\n",
    "    model.vs[i].weight.data *= -1/np.sqrt(model.group_size)*init"
   ]
  },
  {
   "cell_type": "code",
   "execution_count": null,
   "id": "0300e9b9",
   "metadata": {},
   "outputs": [],
   "source": [
    "trainer2 = groupTrainerWithoutWN(model, sim, lr=0.05)#, tol_on_u=3e-2, is_two_lr=True, is_small_train=False)"
   ]
  },
  {
   "cell_type": "code",
   "execution_count": null,
   "id": "10f74b4b",
   "metadata": {},
   "outputs": [],
   "source": [
    "trainer2.train(8000)"
   ]
  },
  {
   "cell_type": "code",
   "execution_count": null,
   "id": "d3c25f4b",
   "metadata": {},
   "outputs": [],
   "source": [
    "# summary_plot(trainer2, n_groups=4, group_size=model.group_size)"
   ]
  },
  {
   "cell_type": "code",
   "execution_count": null,
   "id": "5ce46b13",
   "metadata": {},
   "outputs": [],
   "source": []
  },
  {
   "cell_type": "code",
   "execution_count": null,
   "id": "cbf3fa79",
   "metadata": {},
   "outputs": [],
   "source": [
    "plt.rcParams.update({'text.usetex': True})\n",
    "plt.rcParams.update({'text.latex.preamble': r'\\usepackage{amsmath}'})\n",
    "plt.rcParams.update({'lines.linewidth': 3})\n",
    "plt.rcParams.update({'font.size': 15})\n",
    "plt.rcParams.update({'legend.frameon': False})"
   ]
  },
  {
   "cell_type": "code",
   "execution_count": null,
   "id": "d5daa666",
   "metadata": {},
   "outputs": [],
   "source": [
    "fig, axes = plt.subplots(1,3)\n",
    "fig.set_size_inches(18,5)\n",
    "\n",
    "colors = ['C0']*16 + ['C3']\n",
    "axes[0].plot(trainer.monitor['w'], label=[r'$w_{li}(t), l\\in S$']*16 + [r'$\\max\\limits_{l\\notin S} w_{li}(t)$'])\n",
    "for i, j in enumerate(axes[0].lines):\n",
    "    j.set_color(colors[i])\n",
    "axes[0].set_xlabel('epochs')\n",
    "axes[0].set_ylabel(r'$w_{li}(t)$')\n",
    "axes[0].set_title('Recovered entries with zero initialization')\n",
    "handles, labels = axes[0].get_legend_handles_labels()\n",
    "display = [0,16]\n",
    "axes[0].legend([handle for i,handle in enumerate(handles) if i in display],\n",
    "      [label for i,label in enumerate(labels) if i in display])#, loc=(.1,.7))\n",
    "\n",
    "group_labels = ['group'+str(i+1) for i in range(4)]\n",
    "axes[1].plot(trainer.dir, label = group_labels)\n",
    "axes[1].set_title('Recovered group directions with zero initialization')\n",
    "axes[1].set_xlabel('epochs')\n",
    "axes[1].set_ylabel(r'$\\langle \\mathrm{v}_l(t), \\mathrm{v}^\\star\\rangle$')\n",
    "axes[1].legend()\n",
    "\n",
    "\n",
    "\n",
    "colors = ['C0']*16+['C3']\n",
    "axes[2].plot(trainer2.monitor['w'], label = [r'$w_{li}(t), l\\in S$']*16 + [r'$\\max\\limits_{l\\notin S} w_{li}(t)$'])\n",
    "for i, j in enumerate(axes[2].lines):\n",
    "    j.set_color(colors[i])\n",
    "handles, labels = axes[2].get_legend_handles_labels()\n",
    "axes[2].set_title('Recovered entries with small initialization')\n",
    "display = (0,16)\n",
    "_=axes[2].legend([handle for i,handle in enumerate(handles) if i in display],\n",
    "      [label for i,label in enumerate(labels) if i in display])#, loc=(.05,.6))\n",
    "axes[2].set_xlabel('epochs')\n",
    "axes[2].set_ylabel(r'$w_{li}(t)$')\n",
    "fig.tight_layout()\n",
    "fig.savefig('outputs/three_stages.pdf')"
   ]
  },
  {
   "cell_type": "code",
   "execution_count": null,
   "id": "a3a31ddf",
   "metadata": {},
   "outputs": [],
   "source": []
  }
 ],
 "metadata": {
  "kernelspec": {
   "display_name": "Python 3.9.7 ('base': conda)",
   "language": "python",
   "name": "python3"
  },
  "language_info": {
   "codemirror_mode": {
    "name": "ipython",
    "version": 3
   },
   "file_extension": ".py",
   "mimetype": "text/x-python",
   "name": "python",
   "nbconvert_exporter": "python",
   "pygments_lexer": "ipython3",
   "version": "3.9.7"
  }
 },
 "nbformat": 4,
 "nbformat_minor": 5
}
